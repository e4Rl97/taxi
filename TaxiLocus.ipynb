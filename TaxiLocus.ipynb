{
 "cells": [
  {
   "cell_type": "markdown",
   "metadata": {},
   "source": [
    "# Taxi data"
   ]
  },
  {
   "cell_type": "markdown",
   "metadata": {},
   "source": [
    "Visualization of thier locus"
   ]
  },
  {
   "cell_type": "markdown",
   "metadata": {},
   "source": [
    "## Import Module"
   ]
  },
  {
   "cell_type": "code",
   "execution_count": 1,
   "metadata": {},
   "outputs": [
    {
     "name": "stdout",
     "output_type": "stream",
     "text": [
      "folium version: \t\t 0.10.1\n",
      "小数点以下表示桁数: \t 13\n"
     ]
    }
   ],
   "source": [
    "# データ加工用モジュール\n",
    "import  sys\n",
    "import gc\n",
    "import math\n",
    "import copy\n",
    "\n",
    "import pandas as pd\n",
    "import numpy as np\n",
    "import matplotlib.pyplot as plt\n",
    "\n",
    "# 地図用モジュール\n",
    "import folium\n",
    "from folium import plugins\n",
    "\n",
    "print('folium version: \\t\\t', folium.__version__)\n",
    "\n",
    "# Latitude列は小数第13位までの値を保持している。\n",
    "# defaultでも表示されないだけで同値を保持しているが、見やすくするために指定。\n",
    "pd.options.display.precision = 13\n",
    "# default = 6\n",
    "print('小数点以下表示桁数: \\t', pd.options.display.precision)"
   ]
  },
  {
   "cell_type": "markdown",
   "metadata": {},
   "source": [
    "### データ加工ひとまとめ"
   ]
  },
  {
   "cell_type": "code",
   "execution_count": 2,
   "metadata": {},
   "outputs": [
    {
     "name": "stdout",
     "output_type": "stream",
     "text": [
      "'start'の数と'end'の数：OK\n",
      "ドライバー数:  1\n"
     ]
    },
    {
     "data": {
      "text/plain": [
       "0"
      ]
     },
     "execution_count": 2,
     "metadata": {},
     "output_type": "execute_result"
    }
   ],
   "source": [
    "# ----- データ読込部 --------------------------------------------------\n",
    "# 列名指定\n",
    "df_colnm = ('DriverNumber', 'StatusTime', 'CompanyID', 'Latitude', \n",
    "                   'Longitude', 'VehicleStatus', 'start', 'end')\n",
    "# 列順は以下のようにする\n",
    "# 'CompanyID', 'DriverNumber', 'StatusTime', 'Latitude', \n",
    "# 'Longitude', 'VehicleStatus', 'start', 'end'\n",
    "\n",
    "# dtypeは辞書型で指定する\n",
    "df_dtype = {'CompanyID': 'category', 'DriverNumber': 'category', 'Latitude': 'float64', \n",
    "                   'Longitude': 'float64', 'start': 'category', 'end': 'category'}\n",
    "\n",
    "# 実際にデータ読込\n",
    "df = pd.read_csv('taxi/company2_乗降フラグ付きデータ改訂版.csv',\n",
    "                 header = None,\n",
    "                 names = df_colnm,\n",
    "                 usecols = [5, 1, 2, 8, 9, 13, 18, 19],\n",
    "                 dtype = df_dtype,\n",
    "                 nrows = 407680,\n",
    "                 skiprows = 1,\n",
    "                 encoding = 'SHIFT-JIS')\n",
    "\n",
    "del df_colnm, df_dtype\n",
    "gc.collect()\n",
    "# ----- データ読込部 --------------------------------------------------\n",
    "\n",
    "# データの絞り込み ----------\n",
    "df = df.query('VehicleStatus == \"賃走\"')\n",
    "df.drop('VehicleStatus', axis = 1)\n",
    "\n",
    "# startフラグとendフラグの数が同値になっているかをチェック。 ----------\n",
    "if (df['start'] == '1').sum() == (df['end'] == '1').sum():\n",
    "    print('\\'start\\'の数と\\'end\\'の数：OK')\n",
    "else:\n",
    "    # startとendが同値でなければエラーとしてプログラム自体をbreakする。\n",
    "    print('ERROR：\\'start\\'の数と\\'end\\'の数が等しくありません。 ')\n",
    "    sys.exit()\n",
    "\n",
    "# 外れ値を飛ばすために'start'と'end'列のdtype'category'を8bitの整数値のdtypeに変換\n",
    "df['start'] = df['start'].astype('int8')\n",
    "df['end'] = df['end'].astype('int8')\n",
    "# 1回のみ'賃走'が検出された1経路は外れ値として飛ばす\n",
    "df = df.query('not(start == 1 & end == 1)')\n",
    "# メモリ確保のために'start'と'end'列のdtypeを'category'に戻す\n",
    "df['start'] = df['start'].astype('category')\n",
    "df['end'] = df['end'].astype('category')\n",
    "\n",
    "# map出力用データ加工 ----------\n",
    "df['StatusTime'] = df['StatusTime'].str[:10].str.cat(df['StatusTime'].str[-8:], sep = 'T')\n",
    "\n",
    "# 列順変更 ----------\n",
    "df = df.loc[:, ['CompanyID', 'DriverNumber', 'StatusTime', 'Latitude', \n",
    "                     'Longitude', 'VehicleStatus', 'start', 'end']]\n",
    "\n",
    "# DriverNumber毎にColorCodeを割り当てたDataFrameの作成 ---------- ---------- ----------\n",
    "# DriverNumberのuniqueなリストを作成 ----------\n",
    "df_drivers = list(set(df['DriverNumber']))\n",
    "print('ドライバー数: ', len(df_drivers))\n",
    "# カラーコードのリスト作成\n",
    "df_colors = plt.rcParams['axes.prop_cycle'].by_key()['color']\n",
    "# ColorCodeのリストを参照用にdeep copyする\n",
    "# Pythonは参照渡し。リスト型はmutableなので値渡しでcopy\n",
    "df_colors_copy = copy.deepcopy(df_colors)\n",
    "# ColorCodeのリストをDriver数によって連結させる\n",
    "for i in range(math.floor((len(df_drivers) - 1) / 10)):\n",
    "    df_colors.extend(df_colors_copy)\n",
    "del df_colors_copy\n",
    "gc.collect()\n",
    "\n",
    "# DriverColorの空dataframeを作成\n",
    "df_DriverColor = pd.DataFrame(columns = ['ColorCode'] )\n",
    "# 1DriverNumberに対して1ColorCodeを割り当てる ----------\n",
    "for i in range(len(df_drivers)):\n",
    "    df_DriverColor = df_DriverColor.append(\n",
    "        pd.Series(df_colors[i], index = df_DriverColor.columns), \n",
    "        ignore_index = True)\n",
    "# 作成したColorCodeのDataFrameをDriverNumberのリストと\n",
    "# concatenateするためにDriverNumberのリストをpandas.DataFrameに\n",
    "df_drivers = pd.DataFrame(df_drivers)\n",
    "# DriverNumberとColorCodeをconcatenate\n",
    "df_DriverColor = pd.concat([df_drivers, df_DriverColor], axis = 1)\n",
    "# 列名のrename\n",
    "df_DriverColor.rename(columns = {0: 'DriverNumber'}, inplace = True)\n",
    "del df_drivers, df_colors\n",
    "gc.collect()\n",
    "# DriverNumber毎にColorCodeを割り当てたDataFrameの作成 ---------- ---------- ----------\n",
    "\n",
    "# 元のDataFrameとDriverNumber毎にColorCodeを割り当てたDataFrameをleft_join ----------\n",
    "df = pd.merge(df, df_DriverColor, on = 'DriverNumber', how = 'left')\n",
    "del df_DriverColor\n",
    "gc.collect()\n",
    "\n",
    "# 先頭から'1'が来るまでの行をグループ化 ---------- ---------- ---------- ---------- ----------\n",
    "grouped_df = df.groupby((df['start'] == 1).cumsum())\n",
    "# group化したdataframeを作成しているため、元のdataframeのメモリ解放\n",
    "del df\n",
    "gc.collect()"
   ]
  },
  {
   "cell_type": "code",
   "execution_count": 3,
   "metadata": {},
   "outputs": [
    {
     "name": "stdout",
     "output_type": "stream",
     "text": [
      "|            Variable Name|    Memory|\n",
      " ------------------------------------ \n",
      "|                       In|        96|\n",
      "|                      Out|       240|\n",
      "|                     copy|        80|\n",
      "|                     exit|        56|\n",
      "|                   folium|        80|\n",
      "|                       gc|        80|\n",
      "|              get_ipython|        64|\n",
      "|               grouped_df|        56|\n",
      "|                        i|        24|\n",
      "|                     math|        80|\n",
      "|                       np|        80|\n",
      "|                       pd|        80|\n",
      "|                      plt|        80|\n",
      "|                  plugins|        80|\n",
      "|                     quit|        56|\n",
      "|                      sys|        80|\n"
     ]
    }
   ],
   "source": [
    "# メモリ使用 可視化\n",
    "print(\"{}{: >25}{}{: >10}{}\".format('|','Variable Name','|','Memory','|'))\n",
    "print(\" ------------------------------------ \")\n",
    "for var_name in dir():\n",
    "    if not var_name.startswith(\"_\"):\n",
    "        print(\"{}{: >25}{}{: >10}{}\".format('|',var_name,'|',sys.getsizeof(eval(var_name)),'|'))"
   ]
  },
  {
   "cell_type": "markdown",
   "metadata": {},
   "source": [
    "# Make the map"
   ]
  },
  {
   "cell_type": "code",
   "execution_count": 4,
   "metadata": {},
   "outputs": [
    {
     "data": {
      "text/plain": [
       "0"
      ]
     },
     "execution_count": 4,
     "metadata": {},
     "output_type": "execute_result"
    }
   ],
   "source": [
    "# mapオブジェクトを定義\n",
    "trajMap = folium.Map(\n",
    "    # 新しい地図を作るときの中央にくる緯度と経度を入れる\n",
    "    location = [35.6866158 , 139.73857073333332],\n",
    "    # はじめに表示するときの縮尺を設定する\n",
    "    zoom_start = 12\n",
    ")\n",
    "\n",
    "# linesを繰り返し代入する空のリストを定義\n",
    "# for文の外で定義しなければならない\n",
    "lines = []\n",
    "\n",
    "# ----------\n",
    "# start to end毎にlinesを作成\n",
    "for j in range(1, len(grouped_df) + 1):\n",
    "    # 日時データのみ抽出\n",
    "    df_date = grouped_df.get_group(j)['StatusTime']\n",
    "\n",
    "    # 緯度・経度データのみ抽出\n",
    "    df_lat = grouped_df.get_group(j)['Latitude']\n",
    "    df_lon = grouped_df.get_group(j)['Longitude']\n",
    "\n",
    "    # 色データのみ抽出\n",
    "    df_color = grouped_df.get_group(j)['ColorCode']\n",
    "\n",
    "    # data frameの行数より1少ない値分繰り返す\n",
    "    for i in range(len(grouped_df.get_group(j)) - 1):\n",
    "        # 緯度・経度を'lines'に入れる(linesは辞書型リスト)\n",
    "        line = [\n",
    "            {\n",
    "                # 座標点 *** 経度, 緯度の順番でリストに入れなければならない点に注意! ***\n",
    "                'coordinates':[\n",
    "                    [df_lon.iloc[i], df_lat.iloc[i]], \n",
    "                    [df_lon.iloc[i + 1], df_lat.iloc[i + 1]]\n",
    "                ],\n",
    "                # 日時\n",
    "                'dates':[\n",
    "                    df_date.iloc[i],\n",
    "                    df_date.iloc[i + 1]\n",
    "                ],\n",
    "                # 線色\n",
    "                'color': df_color.iloc[i],\n",
    "                # 線の太さ\n",
    "                'weight': 5\n",
    "            }\n",
    "        ] # ----- lines END -----\n",
    "        # from IPython.core.debugger import Pdb; Pdb().set_trace()\n",
    "        lines.extend(line)\n",
    "# ----------\n",
    "\n",
    "\n",
    "# featuresに入れる際に参照するlineオブジェクトを初期化\n",
    "line = []\n",
    "# featureを繰り返し代入するfeaturesリストを定義\n",
    "# \n",
    "features = []\n",
    "for line in lines:\n",
    "    feature = [\n",
    "        {\n",
    "            'type': 'Feature',\n",
    "            'geometry': {\n",
    "                'type': 'LineString',\n",
    "                'coordinates':line['coordinates'],\n",
    "            },\n",
    "            'properties': {\n",
    "                'times': line['dates'],\n",
    "                'style': {\n",
    "                    'color': line['color'],\n",
    "                    'weight': line['weight']\n",
    "                }\n",
    "            }\n",
    "        }\n",
    "    ]\n",
    "    features.extend(feature)\n",
    "# featuresにlinesで必要な要素を全て入れたので用無し。\n",
    "# 他にもメモリを確保している変数のメモリを解放する。\n",
    "del lines, line, feature, df_date, df_lat, df_lon, df_color, i, j\n",
    "gc.collect()"
   ]
  },
  {
   "cell_type": "code",
   "execution_count": null,
   "metadata": {},
   "outputs": [],
   "source": [
    "plugins.TimestampedGeoJson(\n",
    "    {\n",
    "        'type': 'FeatureCollection',\n",
    "        'features': features,\n",
    "    }, \n",
    "    period = 'PT1M', \n",
    "    add_last_point = False).add_to(trajMap)\n",
    "\n",
    "# trajMap.save('trajMap.html')\n",
    "trajMap"
   ]
  },
  {
   "cell_type": "code",
   "execution_count": null,
   "metadata": {},
   "outputs": [],
   "source": [
    "trajMap.save('trajMap.html')"
   ]
  }
 ],
 "metadata": {
  "kernelspec": {
   "display_name": "Python 3",
   "language": "python",
   "name": "python3"
  },
  "language_info": {
   "codemirror_mode": {
    "name": "ipython",
    "version": 3
   },
   "file_extension": ".py",
   "mimetype": "text/x-python",
   "name": "python",
   "nbconvert_exporter": "python",
   "pygments_lexer": "ipython3",
   "version": "3.7.6"
  }
 },
 "nbformat": 4,
 "nbformat_minor": 2
}
